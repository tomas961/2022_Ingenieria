{
 "cells": [
  {
   "cell_type": "code",
   "execution_count": 1,
   "id": "color-picnic",
   "metadata": {},
   "outputs": [
    {
     "ename": "ModuleNotFoundError",
     "evalue": "No module named 'gmsh'",
     "output_type": "error",
     "traceback": [
      "\u001b[1;31m---------------------------------------------------------------------------\u001b[0m",
      "\u001b[1;31mModuleNotFoundError\u001b[0m                       Traceback (most recent call last)",
      "\u001b[1;32m~\\AppData\\Local\\Temp\\ipykernel_10176\\599723170.py\u001b[0m in \u001b[0;36m<module>\u001b[1;34m\u001b[0m\n\u001b[1;32m----> 1\u001b[1;33m \u001b[1;32mimport\u001b[0m \u001b[0mgmsh\u001b[0m\u001b[1;33m\u001b[0m\u001b[1;33m\u001b[0m\u001b[0m\n\u001b[0m\u001b[0;32m      2\u001b[0m \u001b[1;32mimport\u001b[0m \u001b[0mnumpy\u001b[0m \u001b[1;32mas\u001b[0m \u001b[0mnp\u001b[0m\u001b[1;33m\u001b[0m\u001b[1;33m\u001b[0m\u001b[0m\n\u001b[0;32m      3\u001b[0m \u001b[1;32mimport\u001b[0m \u001b[0mmatplotlib\u001b[0m\u001b[1;33m.\u001b[0m\u001b[0mpyplot\u001b[0m \u001b[1;32mas\u001b[0m \u001b[0mplt\u001b[0m\u001b[1;33m\u001b[0m\u001b[1;33m\u001b[0m\u001b[0m\n\u001b[0;32m      4\u001b[0m \u001b[0mplt\u001b[0m\u001b[1;33m.\u001b[0m\u001b[0mrc\u001b[0m\u001b[1;33m(\u001b[0m\u001b[1;34m'figure'\u001b[0m\u001b[1;33m,\u001b[0m \u001b[0mfigsize\u001b[0m\u001b[1;33m=\u001b[0m\u001b[1;33m(\u001b[0m\u001b[1;36m20\u001b[0m\u001b[1;33m,\u001b[0m\u001b[1;36m8\u001b[0m\u001b[1;33m)\u001b[0m\u001b[1;33m)\u001b[0m\u001b[1;33m\u001b[0m\u001b[1;33m\u001b[0m\u001b[0m\n\u001b[0;32m      5\u001b[0m \u001b[0mgmsh\u001b[0m\u001b[1;33m.\u001b[0m\u001b[0minitialize\u001b[0m\u001b[1;33m(\u001b[0m\u001b[1;33m)\u001b[0m\u001b[1;33m\u001b[0m\u001b[1;33m\u001b[0m\u001b[0m\n",
      "\u001b[1;31mModuleNotFoundError\u001b[0m: No module named 'gmsh'"
     ]
    }
   ],
   "source": [
    "import gmsh\n",
    "import numpy as np\n",
    "import matplotlib.pyplot as plt\n",
    "plt.rc('figure', figsize=(20,8))\n",
    "gmsh.initialize()\n",
    "gmsh.model.add('chapa con agujero')"
   ]
  },
  {
   "cell_type": "code",
   "execution_count": null,
   "id": "metropolitan-illness",
   "metadata": {},
   "outputs": [],
   "source": [
    "\n",
    "f_mallado =0.5\n",
    "L=5\n",
    "p1 = gmsh.model.geo.addPoint(0, 0, 0, f_mallado)\n",
    "p2 = gmsh.model.geo.addPoint(0, L, 0, f_mallado) \n",
    "p3 = gmsh.model.geo.addPoint(2*L, L, 0, f_mallado) \n",
    "p4 = gmsh.model.geo.addPoint(2*L, 0, 0, f_mallado)"
   ]
  },
  {
   "cell_type": "code",
   "execution_count": null,
   "id": "theoretical-tuner",
   "metadata": {},
   "outputs": [],
   "source": [
    "\n",
    "r = 1\n",
    "f_malladoc = 0.1 \n",
    "p5 = gmsh.model.geo.addPoint(0,r,0,f_malladoc)\n",
    "p6 = gmsh.model.geo.addPoint(r,0,0,f_malladoc)\n"
   ]
  },
  {
   "cell_type": "code",
   "execution_count": null,
   "id": "posted-kingdom",
   "metadata": {},
   "outputs": [],
   "source": [
    "\n",
    "l1 = gmsh.model.geo.addLine(p5, p2)\n",
    "l2 = gmsh.model.geo.addLine(p2, p3)\n",
    "l3 = gmsh.model.geo.addLine(p3, p4)\n",
    "l4 = gmsh.model.geo.addLine(p4, p6)\n",
    "\n",
    "semi1 = gmsh.model.geo.addCircleArc(p5,p1 ,p6) \n",
    "\n",
    "\n",
    "C1 = gmsh.model.geo.addCurveLoop([l1, l2, l3, l4])\n",
    "C2 = gmsh.model.geo.addCurveLoop([semi1])\n",
    "\n",
    "S1 = gmsh.model.geo.addPlaneSurface([C1,C2]) "
   ]
  },
  {
   "cell_type": "code",
   "execution_count": null,
   "id": "gentle-formula",
   "metadata": {},
   "outputs": [],
   "source": [
    "gmsh.model.geo.synchronize()\n"
   ]
  },
  {
   "cell_type": "code",
   "execution_count": null,
   "id": "configured-milwaukee",
   "metadata": {},
   "outputs": [],
   "source": [
    "\n",
    "Empotradoy=gmsh.model.addPhysicalGroup(1,[l4])\n",
    "gmsh.model.setPhysicalName(1,Empotradoy,'Empotradoy')\n",
    "\n",
    "Traccionado=gmsh.model.addPhysicalGroup(1,[l3])\n",
    "gmsh.model.setPhysicalName(1,Traccionado,'Traccionado')\n",
    "\n",
    "Empotradox=gmsh.model.addPhysicalGroup(1,[l1])\n",
    "gmsh.model.setPhysicalName(1,Empotradox,'Empotrado x')\n",
    "\n",
    "Superficie = gmsh.model.addPhysicalGroup(2,[S1])\n",
    "gmsh.model.setPhysicalName(2,Superficie, 'Superficie')\n",
    "\n",
    "NodoAgujero= gmsh.model.addPhysicalGroup(0, [p1])\n",
    "gmsh.model.setPhysicalName(0, NodoAgujero, 'Nodo agujero')\n"
   ]
  },
  {
   "cell_type": "code",
   "execution_count": null,
   "id": "talented-management",
   "metadata": {},
   "outputs": [],
   "source": [
    "gmsh.model.mesh.generate(2)\n",
    "gmsh.fltk.run()"
   ]
  },
  {
   "cell_type": "code",
   "execution_count": null,
   "id": "hispanic-portuguese",
   "metadata": {},
   "outputs": [],
   "source": [
    "NodeInfo = gmsh.model.mesh.get_nodes()\n",
    "NumeroNodos=NodeInfo[0].shape[0]\n",
    "MN=NodeInfo[1].reshape(NumeroNodos,3)"
   ]
  },
  {
   "cell_type": "code",
   "execution_count": null,
   "id": "technological-atlas",
   "metadata": {},
   "outputs": [],
   "source": [
    "ETAGS,ELEMENTS=gmsh.model.mesh.get_elements_by_type(2)\n",
    "MC=ELEMENTS.reshape([ETAGS.shape[0],3])\n",
    "MC=(MC-1).astype(int)\n",
    "print(MC)"
   ]
  },
  {
   "cell_type": "code",
   "execution_count": null,
   "id": "extensive-reasoning",
   "metadata": {},
   "outputs": [],
   "source": [
    "\n",
    "NodosEmpotrados=gmsh.model.mesh.get_nodes_for_physical_group(1,Empotradox)\n",
    "NodosEmpotrados2=gmsh.model.mesh.get_nodes_for_physical_group(1,Empotradoy)\n",
    "\n",
    "s1=NodosEmpotrados[0].reshape(len(NodosEmpotrados[0]),1) \n",
    "s2=NodosEmpotrados2[0].reshape(len(NodosEmpotrados2[0]),1) \n",
    "S=np.vstack((s1,s2))\n",
    "z=np.zeros([len(NodosEmpotrados[0])+len(NodosEmpotrados2[0]),2])\n",
    "MNE=np.concatenate((S-1,z),axis=1)\n",
    "MNE=MNE.astype(int) \n",
    "\n",
    "NodosTraccionados=gmsh.model.mesh.get_nodes_for_physical_group(1,Traccionado)\n",
    "\n",
    "s=NodosTraccionados[0].reshape(len(NodosTraccionados[0]),1).astype(int)\n",
    "z=np.zeros([len(NodosTraccionados[0]),2]).astype(int)\n",
    "MNT=np.concatenate((s-1,z),axis=1)\n",
    "\n",
    "\n"
   ]
  },
  {
   "cell_type": "code",
   "execution_count": null,
   "id": "starting-complex",
   "metadata": {},
   "outputs": [],
   "source": [
    "MNE"
   ]
  },
  {
   "cell_type": "code",
   "execution_count": null,
   "id": "controlled-kingdom",
   "metadata": {},
   "outputs": [],
   "source": [
    "entityTraccionada=gmsh.model.getEntitiesForPhysicalGroup(1,Traccionado)\n",
    "Tgroup,Ttraccionada,Ltraccionada=gmsh.model.mesh.getElements(1,entityTraccionada[0])\n",
    "Ltraccionada=Ltraccionada[0].reshape(Ttraccionada[0].shape[0],2) \n",
    "\n",
    "Longitudes=np.abs(MN[Ltraccionada[:,0]-1,1]-MN[Ltraccionada[:,1]-1,1])\n",
    "t=1 #[inch]\n",
    "Tension_ext=1000/L\n",
    "for l,linea in enumerate(Ltraccionada-1):\n",
    "    n1 = int(linea[0])   \n",
    "    n2 = int(linea[1])\n",
    "    flocal=Tension_ext*Longitudes[l]*t/2\n",
    "    flocal=round(flocal)\n",
    "    MNT[MNT[:,0]==n1,1] += flocal\n",
    "    MNT[MNT[:,0]==n2,1] += flocal\n",
    "    \n",
    "    \n",
    "print(MNT)"
   ]
  },
  {
   "cell_type": "code",
   "execution_count": null,
   "id": "urban-flooring",
   "metadata": {},
   "outputs": [],
   "source": [
    "np.set_printoptions(precision = 4, linewidth = 132)\n",
    "cp=0.3\n",
    "E=30E6 #[Psi]\n",
    "\n",
    "nb=len(MNE)\n",
    "nc=len(MNT)\n",
    "\n",
    "D=np.array([[1,cp,0],\n",
    "            [cp,1,0],\n",
    "            [0,0,0.5*(1-cp)]] )*E/(1-cp**2)\n",
    "n=len(MN)\n",
    "x=np.arange(n) \n",
    "x=np.delete(x,[np.concatenate((MNE[:,0].astype(int),MNT[:,0].astype(int)))]) \n",
    "\n"
   ]
  },
  {
   "cell_type": "code",
   "execution_count": null,
   "id": "higher-warrant",
   "metadata": {},
   "outputs": [],
   "source": [
    "kglobal=np.zeros([len(MN)*2,len(MN)*2])\n",
    "B=[]\n",
    "for i in range (len(MC)):\n",
    "    A=np.linalg.det([[1,MN[MC[i,0],0],MN[MC[i,0],1]],\n",
    "                    [1,MN[MC[i,2],0],MN[MC[i,2],1]],\n",
    "                    [1,MN[MC[i,1],0],MN[MC[i,1],1]]])/2\n",
    "    \n",
    "    \n",
    "    bi=MN[MC[i,2],1]-MN[MC[i,1],1]\n",
    "    gi=MN[MC[i,1],0]-MN[MC[i,2],0]\n",
    "    \n",
    "    bj=MN[MC[i,1],1]-MN[MC[i,0],1]\n",
    "    gj=MN[MC[i,0],0]-MN[MC[i,1],0]\n",
    "    \n",
    "    bm=MN[MC[i,0],1]-MN[MC[i,2],1]\n",
    "    gm=MN[MC[i,2],0]-MN[MC[i,0],0]\n",
    "    \n",
    "    B.append(np.array([[bi,0,bj,0,bm,0],\n",
    "                       [0,gi,0,gj,0,gm],\n",
    "                       [gi,bi,gj,bj,gm,bm]])*(1/(2*A)))\n",
    "    \n",
    "\n",
    "    k= t * abs(A) * (np.dot(np.transpose(B[i]), np.dot(D,B[i])))\n",
    "    \n",
    "    i,m,j = MC[i,:]    \n",
    "    index=np.array([i*2,i*2+1,j*2,j*2+1,m*2,m*2+1])\n",
    "    kglobal[np.ix_(index,index)]+=k\n",
    "\n",
    "\n",
    "\n",
    "    \n",
    "    \n",
    "\n",
    "    \n",
    "\n",
    "print(kglobal*(0.91/375000))"
   ]
  },
  {
   "cell_type": "code",
   "execution_count": null,
   "id": "sophisticated-administration",
   "metadata": {},
   "outputs": [],
   "source": [
    ".\n",
    "f=np.zeros([2*n,2])\n",
    "\n",
    "for i in range (nc):\n",
    "    s=MNT[i,0]\n",
    "    f[2*s,0]=1\n",
    "    f[2*s,1]=MNT[i,1]\n",
    "    f[2*s+1,0]=1\n",
    "    f[2*s+1,1]=MNT[i,2]\n",
    "    \n",
    "\n",
    "for j in range (nb):\n",
    "    if MNE[j,1]==1:\n",
    "        s=MNE[j,0]\n",
    "        f[2*s,0]=1\n",
    "        f[2*s,1]=0\n",
    "    if MNE[j,2]==1:\n",
    "        s=MNE[j,0]\n",
    "        f[2*s+1,0]=1\n",
    "        f[2*s+1,1]=0\n",
    "if nb+nc <n:\n",
    "    f[2*x,0]=1\n",
    "    f[2*x,1]=0\n",
    "    f[2*x+1,0]=1\n",
    "    f[2*x+1,1]=0\n"
   ]
  },
  {
   "cell_type": "code",
   "execution_count": null,
   "id": "illegal-analyst",
   "metadata": {},
   "outputs": [],
   "source": [
    "_FX=f[0:-1:2,1].reshape(-1,1).copy()    \n",
    "\n",
    "_FY =f[1::2,1].reshape(-1,1).copy()\n"
   ]
  },
  {
   "cell_type": "code",
   "execution_count": null,
   "id": "female-glucose",
   "metadata": {},
   "outputs": [],
   "source": [
    "\n",
    "fig, ax = plt.subplots()\n",
    "_ax = ax.triplot(MN[:,0], MN [:,1], MC)\n",
    "_ax = ax.quiver(MN[:,0], MN[:,1], _FX, _FY,scale=100, units='x')\n",
    "for n in range(NumeroNodos):\n",
    "    ax.annotate('{:d}'.format(n), MN[n,:2], fontsize=10)\n",
    "ax.set_xlim([-1,30])"
   ]
  },
  {
   "cell_type": "code",
   "execution_count": null,
   "id": "criminal-makeup",
   "metadata": {},
   "outputs": [],
   "source": [
    "agujero1 = 2 * (gmsh.model.mesh.get_nodes_for_physical_group(0,NodoAgujero)[0] - 1).astype(int)\n",
    "agujero2= (2 * (gmsh.model.mesh.get_nodes_for_physical_group(0,NodoAgujero)[0] - 1) + 1).astype(int)\n",
    "Smx = 2 * (gmsh.model.mesh.get_nodes_for_physical_group(1,Empotradox)[0] - 1).astype(int)\n",
    "Smy = (2 * (gmsh.model.mesh.get_nodes_for_physical_group(1,Empotradoy)[0] - 1) +1).astype(int)"
   ]
  },
  {
   "cell_type": "code",
   "execution_count": null,
   "id": "social-depth",
   "metadata": {},
   "outputs": [],
   "source": [
    "indexd=np.sort( np.hstack((agujero1,agujero2,Smx,Smy)))\n",
    "indexf = np.delete( np.arange(2*NumeroNodos) , indexd)"
   ]
  },
  {
   "cell_type": "code",
   "execution_count": null,
   "id": "surprised-taiwan",
   "metadata": {},
   "outputs": [],
   "source": [
    "\n",
    "\n",
    "desplazamientos=np.dot(np.linalg.inv(kglobal[np.ix_(indexf,indexf)]),f[indexf,1])\n",
    "\n",
    "\n",
    "d=np.zeros([2*NumeroNodos,2])\n",
    "d[indexd,0]=1 \n",
    "d[indexf,1]=desplazamientos\n",
    "f[:,1]=np.dot(kglobal,d[:,1]) "
   ]
  },
  {
   "cell_type": "code",
   "execution_count": null,
   "id": "covered-instrument",
   "metadata": {},
   "outputs": [],
   "source": [
    "tension=[]\n",
    "for s in range (len(MC)) :\n",
    "    i,m,j = MC[s,:]    \n",
    "    index=np.array([i*2,i*2+1,j*2,j*2+1,m*2,m*2+1])\n",
    "    valor=np.dot(np.dot(B[s],d[index,1]),D)\n",
    "    tension.append(valor)\n",
    "tension = np.array(tension)\n"
   ]
  },
  {
   "cell_type": "code",
   "execution_count": null,
   "id": "static-american",
   "metadata": {},
   "outputs": [],
   "source": [
    "tensionmax=[]\n",
    "tensionmin=[]\n",
    "for p in range (len(tension)):\n",
    "    valor=(tension[p,0]+tension[p,1])/2+np.sqrt(((tension[p,0]-tension[p,1])/2)**2+tension[p,2]**2)\n",
    "    valor2=(tension[p,0]+tension[p,1])/2-np.sqrt(((tension[p,0]-tension[p,1])/2)**2+tension[p,2]**2)\n",
    "\n",
    "    tensionmax.append(valor)\n",
    "    tensionmin.append(valor2)\n",
    "\n",
    "tensionmax = np.array(tensionmax)\n",
    "tensionmin = np.array(tensionmin)\n",
    "\n"
   ]
  },
  {
   "cell_type": "code",
   "execution_count": null,
   "id": "prepared-dallas",
   "metadata": {},
   "outputs": [],
   "source": [
    "Despx = d[:-1:2,1].reshape(-1,1)\n",
    "Despy = d[1::2,1].reshape(-1,1)"
   ]
  },
  {
   "cell_type": "code",
   "execution_count": null,
   "id": "public-freeware",
   "metadata": {},
   "outputs": [],
   "source": [
    "DESP=np.hstack((Despx,Despy,np.zeros([NumeroNodos,1])))"
   ]
  },
  {
   "cell_type": "code",
   "execution_count": null,
   "id": "adequate-coach",
   "metadata": {},
   "outputs": [],
   "source": [
    "desps = gmsh.view.add(\"desplazamientos\")"
   ]
  },
  {
   "cell_type": "code",
   "execution_count": null,
   "id": "seventh-reason",
   "metadata": {},
   "outputs": [],
   "source": [
    "\n",
    "Desps = gmsh.view.addModelData(desps, 0, 'chapa con agujero', 'NodeData', NodeInfo[0], DESP, numComponents=3)\n"
   ]
  },
  {
   "cell_type": "code",
   "execution_count": null,
   "id": "annual-surfing",
   "metadata": {},
   "outputs": [],
   "source": [
    "Tensiones=gmsh.view.add('Tensiones principales')"
   ]
  },
  {
   "cell_type": "code",
   "execution_count": null,
   "id": "advanced-raising",
   "metadata": {},
   "outputs": [],
   "source": [
    "Tensiones = gmsh.view.addModelData(Tensiones, 0, 'chapa con agujero', 'ElementData', ETAGS, tensionmax.reshape(-1,1) , numComponents=1 )"
   ]
  },
  {
   "cell_type": "code",
   "execution_count": null,
   "id": "friendly-disaster",
   "metadata": {},
   "outputs": [],
   "source": [
    "gmsh.fltk.run()"
   ]
  },
  {
   "cell_type": "code",
   "execution_count": null,
   "id": "industrial-memorial",
   "metadata": {},
   "outputs": [],
   "source": [
    "gmsh.finalize()"
   ]
  },
  {
   "cell_type": "code",
   "execution_count": null,
   "id": "f3a1ae8d-23a0-431d-ad42-fe11bc7460ca",
   "metadata": {},
   "outputs": [],
   "source": []
  },
  {
   "cell_type": "code",
   "execution_count": null,
   "id": "7ab91249-14e6-4dab-97d0-3db6206ca74c",
   "metadata": {},
   "outputs": [],
   "source": []
  },
  {
   "cell_type": "code",
   "execution_count": null,
   "id": "678aea7a-7b81-4e46-8386-cf13d349bdbe",
   "metadata": {},
   "outputs": [],
   "source": []
  },
  {
   "cell_type": "code",
   "execution_count": null,
   "id": "e8462115-77a1-4b07-8ea3-00df18e4a0bc",
   "metadata": {},
   "outputs": [],
   "source": []
  },
  {
   "cell_type": "code",
   "execution_count": null,
   "id": "b81124d7-d023-4eee-98a0-de84fd90b1a6",
   "metadata": {},
   "outputs": [],
   "source": []
  },
  {
   "cell_type": "code",
   "execution_count": null,
   "id": "fc3b7493-b84c-4237-a271-a0c47061ffcf",
   "metadata": {},
   "outputs": [],
   "source": []
  },
  {
   "cell_type": "code",
   "execution_count": null,
   "id": "0b20d08e-0a01-4ee8-8645-24b1ce90910b",
   "metadata": {},
   "outputs": [],
   "source": []
  },
  {
   "cell_type": "code",
   "execution_count": null,
   "id": "79ee33ad-0ca5-4901-9fc8-5ba058930c3c",
   "metadata": {},
   "outputs": [],
   "source": []
  }
 ],
 "metadata": {
  "kernelspec": {
   "display_name": "Python 3 (ipykernel)",
   "language": "python",
   "name": "python3"
  },
  "language_info": {
   "codemirror_mode": {
    "name": "ipython",
    "version": 3
   },
   "file_extension": ".py",
   "mimetype": "text/x-python",
   "name": "python",
   "nbconvert_exporter": "python",
   "pygments_lexer": "ipython3",
   "version": "3.9.10"
  }
 },
 "nbformat": 4,
 "nbformat_minor": 5
}
